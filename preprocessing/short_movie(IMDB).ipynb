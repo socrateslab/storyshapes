{
 "cells": [
  {
   "cell_type": "code",
   "execution_count": 1,
   "metadata": {
    "ExecuteTime": {
     "end_time": "2019-07-28T11:10:52.056563Z",
     "start_time": "2019-07-28T11:10:50.371768Z"
    }
   },
   "outputs": [],
   "source": [
    "from scipy.stats import chisquare\n",
    "from scipy import stats\n",
    "import urllib.request\n",
    "import string\n",
    "import requests\n",
    "from bs4 import BeautifulSoup\n",
    "import pandas as pd\n",
    "import multiprocessing\n",
    "import gensim\n",
    "import sys\n",
    "# import spacy\n",
    "# nlp=spacy.load('en')\n",
    "# nlp = spacy.load('en_coref_sm')  \n",
    "import seaborn as sns\n",
    "from nltk.tokenize import WordPunctTokenizer\n",
    "tknzr = WordPunctTokenizer()\n",
    "from gensim.models import Word2Vec\n",
    "from gensim.models import KeyedVectors\n",
    "from scipy import spatial\n",
    "from collections import Counter\n",
    "import numpy as np\n",
    "from collections import defaultdict\n",
    "from pprint import pprint\n",
    "from gensim import corpora\n",
    "import re\n",
    "import logging\n",
    "import requests\n",
    "import urllib \n",
    "import re\n",
    "import sys\n",
    "import zipfile\n",
    "from glob import glob\n",
    "import statsmodels.api as sm\n",
    "import scipy\n",
    "import scipy.stats as ss\n",
    "from scipy.signal import savgol_filter\n",
    "import random\n",
    "# np.set_printoptions(precision=4)\n",
    "logging.basicConfig(format='%(asctime)s : %(levelname)s : %(message)s', level=logging.INFO)\n",
    "\n",
    "import matplotlib.pyplot as plt\n",
    "%matplotlib inline\n",
    "import bezier\n",
    "\n",
    "from sklearn import metrics\n",
    "from sklearn.cluster import KMeans\n",
    "# from the demo\n",
    "from sklearn.datasets import load_digits\n",
    "from sklearn.decomposition import PCA\n",
    "from sklearn.decomposition import TruncatedSVD\n",
    "from sklearn.decomposition import NMF\n",
    "from sklearn.preprocessing import scale\n",
    "from sklearn.linear_model import LogisticRegression\n",
    "from sklearn.model_selection import train_test_split\n",
    "from sklearn.metrics import accuracy_score\n",
    "from nltk.corpus import stopwords\n",
    "from nltk.corpus import names\n",
    "from scipy.stats import norm   \n",
    "pd.set_option('display.max_columns',None)\n",
    "pd.set_option('display.max_rows',None)"
   ]
  },
  {
   "cell_type": "code",
   "execution_count": 2,
   "metadata": {
    "ExecuteTime": {
     "end_time": "2019-07-28T11:10:56.051626Z",
     "start_time": "2019-07-28T11:10:55.274801Z"
    }
   },
   "outputs": [
    {
     "name": "stderr",
     "output_type": "stream",
     "text": [
      "2019-07-28 19:10:55,927 : INFO : Loading model from /Users/xuhuimin/.neuralcoref_cache/neuralcoref\n"
     ]
    }
   ],
   "source": [
    "# Load your usual SpaCy model (one of SpaCy English models)\n",
    "import spacy\n",
    "nlp = spacy.load('en')\n",
    "\n",
    "# load NeuralCoref and add it to the pipe of SpaCy's model\n",
    "import neuralcoref\n",
    "coref = neuralcoref.NeuralCoref(nlp.vocab)\n",
    "nlp.add_pipe(coref, name='neuralcoref')"
   ]
  },
  {
   "cell_type": "code",
   "execution_count": 3,
   "metadata": {
    "ExecuteTime": {
     "end_time": "2019-07-28T11:10:59.658012Z",
     "start_time": "2019-07-28T11:10:59.599948Z"
    }
   },
   "outputs": [],
   "source": [
    "def flushPrint(s):\n",
    "    sys.stdout.write('\\r')\n",
    "    sys.stdout.write('%s' % s)\n",
    "    sys.stdout.flush()\n",
    "    \n",
    "def normalize(v):\n",
    "    norm = np.linalg.norm(v)\n",
    "    if norm == 0:\n",
    "        return v\n",
    "    return v / norm\n",
    "\n",
    "def cultureD2(model, words):\n",
    "    cultures = []\n",
    "    for word in words:\n",
    "        if (word[0] in model.wv.vocab) & (word[1] in model.wv.vocab):\n",
    "            cultures.append(normalize(normalize(model[word[0]]) - normalize(model[word[1]])))\n",
    "        else:\n",
    "            print(word)\n",
    "    culturev = normalize(np.mean(cultures, axis=0))\n",
    "    return culturev\n",
    "\n",
    "def storyv(model,words):\n",
    "    veclist=[]\n",
    "    for w in words:\n",
    "        if w in model.wv.vocab:\n",
    "            veclist.append(normalize(model[w]))\n",
    "    storyv=normalize(np.mean(veclist,axis=0))\n",
    "    return storyv\n",
    "\n",
    "def projection(storyv, culturev):\n",
    "    # cosine similarity\n",
    "    return (1 - spatial.distance.cosine(storyv, culturev))\n",
    "           \n",
    "def cosine2angle(i):\n",
    "    return np.arccos(i) / np.pi * 180 #长度换角度\n",
    "\n",
    "def normalized(x):\n",
    "    x= np.array(x)\n",
    "    return (x-np.mean(x))/np.std(x)\n",
    "\n",
    "def normalization(x):\n",
    "    x=np.array(x)\n",
    "    return (x-np.min(x))/(np.max(x)-np.min(x))"
   ]
  },
  {
   "cell_type": "code",
   "execution_count": 4,
   "metadata": {
    "ExecuteTime": {
     "end_time": "2019-07-28T11:11:00.969810Z",
     "start_time": "2019-07-28T11:11:00.961798Z"
    }
   },
   "outputs": [],
   "source": [
    "def pre_process(data):\n",
    "    for w in abbreviations:\n",
    "        data = data.replace(w,' ')\n",
    "    data = data.replace('\\r',' ').replace('\\n',' ').replace('\\t',' ')\n",
    "    data = re.split('[.?!]',data) # cut the sentence\n",
    "    tknzr = WordPunctTokenizer()\n",
    "    data = [tknzr.tokenize(i) for i in data]\n",
    "    data=[i for i in data if len(i)>1]\n",
    "    return data"
   ]
  },
  {
   "cell_type": "code",
   "execution_count": 5,
   "metadata": {
    "ExecuteTime": {
     "end_time": "2019-07-28T11:11:02.307234Z",
     "start_time": "2019-07-28T11:11:02.292328Z"
    }
   },
   "outputs": [],
   "source": [
    "def word_to_emotion(data):\n",
    "    w=[]\n",
    "    for da in data:\n",
    "        d=[]\n",
    "        for word in da:\n",
    "            try:\n",
    "                if (word.lower() not in stopword):#&(word not in names):\n",
    "                    sim = 90-cosine2angle(projection(model[word],success_vector))\n",
    "                    if (sim<-3)|(sim>3):\n",
    "                        d.append(sim)\n",
    "            except:\n",
    "                pass\n",
    "        w.append(np.mean(d))\n",
    "    return w"
   ]
  },
  {
   "cell_type": "code",
   "execution_count": 6,
   "metadata": {
    "ExecuteTime": {
     "end_time": "2019-07-28T11:11:05.402173Z",
     "start_time": "2019-07-28T11:11:05.228042Z"
    }
   },
   "outputs": [],
   "source": [
    "import re, sys, getopt\n",
    "\n",
    "PUNCTUATION = [ch for ch in \"\"\"(){}[]<>!?.:;,`'\"@#$%^&*+-|=~/\\\\_\"\"\"]\n",
    "LETTERS     = [ch for ch in \"abcdefghijklmnopqrstuvwxyz\"]\n",
    "CONSONANTS  = [ch for ch in \"bcdfghjklmnpqrstvwxz\"] # Need this for Mr. Mss. abbreviations.\n",
    "WHITESPACE  = [ch for ch in \" \\t\\n\\r\\f\\v\"]          # Need this to split words.\n",
    "DASHES      = [ch for ch in u\"鈥撯€�\"]                  # Not to be confused with hyphen.\n",
    "\n",
    "is_uppercase   = lambda s: len(s)>0 and s==s.upper()                          # Goodbye => True\n",
    "is_capitalized = lambda s: len(s)>0 and s[0].isalpha() and s[0]==s[0].upper() # GOODBYE => True\n",
    "\n",
    "digits = re.compile(\"^[0-9]+$\")\n",
    "is_int = lambda s: digits.search(s) != None\n",
    "\n",
    "# regex pattern for entities: &amp; &#164;\n",
    "entity = \"&[a-z]+;|&#[0-9]+;\"\n",
    "\n",
    "class Range(dict):\n",
    "    \n",
    "    def __init__(self, items=[]):\n",
    "        dict.__init__(self, items)\n",
    "        self.patterns = []\n",
    "        \n",
    "    def __contains__(self, str):\n",
    "        if dict.__contains__(self, str): \n",
    "            return True\n",
    "        for p in self.patterns:\n",
    "            if p.search(str) != None: \n",
    "                return True\n",
    "        return False\n",
    "\n",
    "def in_any(word, ranges=[]):\n",
    "    for rng in ranges:\n",
    "        if word in rng: return True\n",
    "        \n",
    "abbreviations = [\n",
    "    \"Adm.\", \"Ala.\", \"Ariz.\", \"Ark.\", \"Aug.\", \"B.C.\", \"Bancorp.\", \"Bhd.\", \"Brig.\", \"Bros.\", \"CO.\", \n",
    "    \"CORP.\", \"COS.\", \"ca.\", \"Calif.\", \"Capt.\", \"Cie.\", \"Cmdr.\", \"Co.\", \"Col.\", \"Colo.\", \"Conn.\", \"Corp.\", \n",
    "    \"Cos.\", \"Cpl.\", \"D-Mass.\", \"D.C.\", \"Dec.\", \"Del.\", \"Dept.\", \"Dr.\", \"E.g.\", \"Etc.\", \"Ex.\", \"Exch.\", \n",
    "    \"Feb.\", \"Fla.\", \"Fri.\", \"Ga.\", \"Gen.\", \"Gov.\", \"INC.\", \"Ill.\", \"Inc.\", \"Ind.\", \"Jan.\", \"Jansz.\", \n",
    "    \"Jos.\", \"Jr.\", \"Kan.\", \"Ky.\", \"L.A.\", \"La.\", \"Lt.\", \"Ltd.\", \"Maj.\", \"Mass.\", \"Md.\", \"Messrs.\", \n",
    "    \"Mfg.\", \"Mich.\", \"Minn.\", \"Miss.\", \"Mo.\", \"Mon.\", \"Mr.\", \"Mrs.\", \"Ms.\", \"Mt.\", \"N.C.\", \"N.J.\", \n",
    "    \"N.Y.\", \"NFATc.\", \"Neb.\", \"Nev.\", \"No.\", \"Nos.\", \"Nov.\", \"O.J.\", \"Oct.\", \"Okla.\", \"Ont.\", \"Ore.\", \n",
    "    \"P.T.\", \"Pa.\", \"Ph.\", \"Prof.\", \"Prop.\", \"Pty.\", \"R.I.\", \"R.J.\", \"Rep.\", \"Reps.\", \"Rev.\", \"S.C.\", \n",
    "    \"Sat.\", \"Sen.\", \"Sens.\", \"Sep.\", \"Sept.\", \"Sgt.\", \"Sol.\", \"Sr.\", \"St.\", \"Sun.\", \"Tenn.\", \"Tex.\", \n",
    "    \"Thu.\", \"Tue.\", \"U.K.\", \"U.N.\", \"U.S.\", \"Va.\", \"Vt.\", \"W.J.\", \"W.Va.\", \"Wash.\", \"Wed.\", \"Wis.\", \n",
    "    \"Wyo.\", \"a.m.\", \"cit.\", \"def.\", \"ed.\", \"eds.\", \"e.g.\", \"etc.\", \"ft.\", \"i.e.\", \"op.\", \"p.m.\", \"pp.\", \n",
    "    \"sc.\", \"v.\", \"vs.\", \"Biol.\", \"Chem.\", \"beta4.\", \"Struct.\", \"Funct.\", \"Natl.\", \"Acad.\", \"Sci.\",\n",
    "    \"Biochem.\", \"Cell.\", \"Proc.\", \"Res.\", \"Lond.\", \"Nat.\", \"Dev.\", \"Camb.\", \"Profilin.\", \"Thymosin-beta4.\"\n",
    "]\n",
    "\n",
    "# class Abbreviations(Range):\n",
    "    \n",
    "#     def __init__(self, known=[]):\n",
    "#         \"\"\" A dictionary of known abbreviations, extended with patterns of likely abbreviations.\n",
    "#             word in Abbreviations() == True if word is a known or likely abbreviation.\n",
    "#             Periods in English are ambiguous,\n",
    "#             marking end of sentence, abbreviation, decimal point or ellipsis.\n",
    "#             - Simple rule: \"every point is a sentence break\" is 93.20% correct for Brown corpus.\n",
    "#             - Fix decimal points: 93,64% correct.\n",
    "#             - Fix single letter abbreviations (T. De Smedt), alternating letters (i.e. U.S.),\n",
    "#               and capital letter followed by consonants (Mr. Assn.): 97.7% correct.\n",
    "#             - Fix with dictionary of known abbreviations: up to 99,07 accuracy.\n",
    "#             http://bulba.sdsu.edu/~malouf/ling571/13-token-bw.pdf\n",
    "#         \"\"\"\n",
    "#         Range.__init__(self, [(x,True) for x in known])\n",
    "#         self.patterns = [\n",
    "#             re.compile(\"^[A-Za-z]\\.$\"),                       # single letter, \"T. De Smedt\"\n",
    "#             re.compile(\"^([A-Za-z]\\.)+$\"),                    # alternating letters, \"U.S.\"\n",
    "#             #re.compile(\".+\\.[,;]$\"),                         # followed by punctuation, \"dept.,\"\n",
    "#             re.compile(\"^[A-Z][\"+\"|\".join(CONSONANTS)+\"]+.$\") # capital followed by consonants, \"Mr.\"\n",
    "#         ]\n",
    "        \n",
    "#     def __contains__(self, word):\n",
    "#         return word.endswith(\".\") and Range.__contains__(self, word)\n",
    "\n",
    "# abbreviations = Abbreviations(abbreviations)\n",
    "# # from https://www.clips.uantwerpen.be/BiographTA/tokenizer.py"
   ]
  },
  {
   "cell_type": "code",
   "execution_count": 7,
   "metadata": {
    "ExecuteTime": {
     "end_time": "2019-07-28T11:11:05.749079Z",
     "start_time": "2019-07-28T11:11:05.745078Z"
    }
   },
   "outputs": [],
   "source": [
    "def flushPrint(s):\n",
    "    sys.stdout.write('\\r')\n",
    "    sys.stdout.write('%s' % s)\n",
    "    sys.stdout.flush()"
   ]
  },
  {
   "cell_type": "code",
   "execution_count": 8,
   "metadata": {
    "ExecuteTime": {
     "end_time": "2019-06-14T04:24:17.378370Z",
     "start_time": "2019-06-14T04:24:17.375280Z"
    }
   },
   "outputs": [],
   "source": [
    "# 获取名字，性别数据列表\n",
    "# male_names = [name for name in names.words('male.txt')]\n",
    "# female_names = [name for name in names.words('female.txt')]"
   ]
  },
  {
   "cell_type": "code",
   "execution_count": 8,
   "metadata": {
    "ExecuteTime": {
     "end_time": "2019-07-28T11:11:08.023272Z",
     "start_time": "2019-07-28T11:11:08.014100Z"
    }
   },
   "outputs": [],
   "source": [
    "with open('./stopword.txt','r') as f:\n",
    "    stopword=f.readlines()\n",
    "stopword=[i.split('\\n')[0] for i in stopword]"
   ]
  },
  {
   "cell_type": "code",
   "execution_count": 9,
   "metadata": {
    "ExecuteTime": {
     "end_time": "2019-07-28T11:11:10.573373Z",
     "start_time": "2019-07-28T11:11:09.729838Z"
    }
   },
   "outputs": [],
   "source": [
    "IMDB=pd.read_csv('./IMDB/IMDB_e2.csv')"
   ]
  },
  {
   "cell_type": "code",
   "execution_count": 10,
   "metadata": {
    "ExecuteTime": {
     "end_time": "2019-07-28T11:11:11.019203Z",
     "start_time": "2019-07-28T11:11:11.013356Z"
    }
   },
   "outputs": [
    {
     "data": {
      "text/plain": [
       "6087"
      ]
     },
     "execution_count": 10,
     "metadata": {},
     "output_type": "execute_result"
    }
   ],
   "source": [
    "len(IMDB)"
   ]
  },
  {
   "cell_type": "code",
   "execution_count": 11,
   "metadata": {
    "ExecuteTime": {
     "end_time": "2019-07-28T11:11:12.757911Z",
     "start_time": "2019-07-28T11:11:12.753423Z"
    },
    "scrolled": false
   },
   "outputs": [
    {
     "data": {
      "text/plain": [
       "Index(['tconst', 'titleType', 'primaryTitle', 'originalTitle', 'isAdult',\n",
       "       'startYear', 'endYear', 'runtimeMinutes', 'genres', 'averageRating',\n",
       "       'numVotes', 'character', 'tp', 'emotion', 'len', 'lead_gender', 'count',\n",
       "       'female_adj', 'female_verb', 'male_adj', 'male_verb', 'm_verbs',\n",
       "       'f_verbs', 'm_adjs', 'f_adjs', 'co_n', 'prob', 'cum_e', 'smooth_cum_e',\n",
       "       't_p', 'tp_e', 'tp_c', 'k', 'up', 'up1', 'female_all', 'male_all',\n",
       "       'female_a', 'male_a', 'm_cn', 'f_cn', 'm_b', 'f_b', 'm_k', 'f_k',\n",
       "       'm_k_1', 'f_k_1', 'm_k_2', 'f_k_2', 'm_k_3', 'f_k_3', 'm_k_4', 'f_k_4',\n",
       "       'm_k_5', 'f_k_5', 'm_k_6', 'f_k_6', 'm_k_7', 'f_k_7', 'm_k_8', 'f_k_8',\n",
       "       'm_k_9', 'f_k_9', 'trend_f', 'trend_m', 'distance', 'tp_l'],\n",
       "      dtype='object')"
      ]
     },
     "execution_count": 11,
     "metadata": {},
     "output_type": "execute_result"
    }
   ],
   "source": [
    "IMDB.columns"
   ]
  },
  {
   "cell_type": "code",
   "execution_count": 12,
   "metadata": {
    "ExecuteTime": {
     "end_time": "2019-07-28T11:12:32.443670Z",
     "start_time": "2019-07-28T11:12:32.428090Z"
    }
   },
   "outputs": [
    {
     "data": {
      "text/plain": [
       "1750"
      ]
     },
     "execution_count": 12,
     "metadata": {},
     "output_type": "execute_result"
    }
   ],
   "source": [
    "len(IMDB[IMDB['lead_gender']=='female'])"
   ]
  },
  {
   "cell_type": "code",
   "execution_count": 13,
   "metadata": {
    "ExecuteTime": {
     "end_time": "2019-07-28T11:12:33.449779Z",
     "start_time": "2019-07-28T11:12:33.435991Z"
    }
   },
   "outputs": [
    {
     "data": {
      "text/plain": [
       "4337"
      ]
     },
     "execution_count": 13,
     "metadata": {},
     "output_type": "execute_result"
    }
   ],
   "source": [
    "len(IMDB[IMDB['lead_gender']=='male'])"
   ]
  },
  {
   "cell_type": "code",
   "execution_count": 14,
   "metadata": {
    "ExecuteTime": {
     "end_time": "2019-07-28T11:12:48.633138Z",
     "start_time": "2019-07-28T11:12:48.629045Z"
    }
   },
   "outputs": [],
   "source": [
    "def eval_(x):\n",
    "    try:\n",
    "        return eval(x)\n",
    "    except:\n",
    "        return np.nan\n",
    "        pass"
   ]
  },
  {
   "cell_type": "code",
   "execution_count": 15,
   "metadata": {
    "ExecuteTime": {
     "end_time": "2019-07-28T11:14:20.657537Z",
     "start_time": "2019-07-28T11:14:19.624690Z"
    }
   },
   "outputs": [],
   "source": [
    "IMDB['tp']=IMDB['tp'].apply(lambda x: eval_(x))\n",
    "IMDB['emotion']=IMDB['emotion'].apply(lambda x: eval_(x))\n",
    "IMDB['character']=IMDB['character'].apply(lambda x: eval_(x))\n",
    "IMDB['male_a']=IMDB['male_a'].apply(lambda x: eval_(x))\n",
    "IMDB['female_a']=IMDB['female_a'].apply(lambda x: eval_(x))"
   ]
  },
  {
   "cell_type": "code",
   "execution_count": 17,
   "metadata": {
    "ExecuteTime": {
     "end_time": "2019-07-28T11:14:33.653798Z",
     "start_time": "2019-07-28T11:14:33.636136Z"
    }
   },
   "outputs": [],
   "source": [
    "def slope(cum_e,tp,l,threshold):\n",
    "#     threshold=l/threshold\n",
    "    tp_e=[[i,cum_e[i]] for i in tp]\n",
    "    a=[]\n",
    "    for i in range(len(tp_e)-1):\n",
    "        if (tp_e[i+1][0]-tp_e[i][0])>threshold:\n",
    "            a.append(i+1)\n",
    "\n",
    "    a=[0]+a+[len(tp_e)]\n",
    "\n",
    "    b=[]\n",
    "    for i in range(len(a)-1):\n",
    "        b.append(tp_e[a[i]:a[i+1]])\n",
    "        b=[i for i in b if len(i)!=0]\n",
    "    return b"
   ]
  },
  {
   "cell_type": "code",
   "execution_count": 18,
   "metadata": {
    "ExecuteTime": {
     "end_time": "2019-07-28T11:14:37.916186Z",
     "start_time": "2019-07-28T11:14:37.908066Z"
    }
   },
   "outputs": [],
   "source": [
    "def cn(x,y):\n",
    "    m_cn=[x[i] for i in y]\n",
    "#     m_cn=normalization(m_cn)\n",
    "    m_cn=normalized(m_cn)\n",
    "    diction_m=dict(list(zip(y,m_cn)))\n",
    "    m_cn=np.cumsum([diction_m[i] if i in diction_m else 0 for i in range(len(x))])\n",
    "    m_cn=normalization(m_cn)\n",
    "    return m_cn"
   ]
  },
  {
   "cell_type": "code",
   "execution_count": 19,
   "metadata": {
    "ExecuteTime": {
     "end_time": "2019-07-28T11:15:51.242666Z",
     "start_time": "2019-07-28T11:15:51.201189Z"
    }
   },
   "outputs": [],
   "source": [
    "def k(b,w):\n",
    "    try:\n",
    "        a=[]\n",
    "        for i in b:\n",
    "            if len(i)==0:\n",
    "                continue\n",
    "            if len(i)==1:\n",
    "#                 a.append([0,1])\n",
    "                x=i[0][0]\n",
    "                if (len(w)-1)>x>0:\n",
    "                    k=(w[x]-w[x-1])/1\n",
    "                    a.append([k,1])\n",
    "#                     a.append([k,[x,x+1]])\n",
    "                elif x==0:\n",
    "                    k=(w[x+1]-w[x])/1\n",
    "                    a.append([k,1])\n",
    "#                     a.append([0,[0,1]])\n",
    "                else:\n",
    "                    k=(w[x]-w[x-1])/1\n",
    "                    a.append([k,1])\n",
    "#                     a.append([k,[x,x+1]])\n",
    "#             if len(i)<4:\n",
    "#                 continue\n",
    "            if len(i)>1:\n",
    "                x=[j[0] for j in i] #non_normalize\n",
    "                y=[j[1] for j in i] #non_normalize\n",
    "                poly = np.polyfit(x,y,deg=1)\n",
    "#                 a.append([poly[0],[x[0],x[-1]+1]])\n",
    "                a.append([poly[0],len(x)]) #number\n",
    "#                 a.append([poly[0],x[-1]-x[0]]) #length\n",
    "#                 a.append(poly[0])\n",
    "        return a\n",
    "    except Exception as e:\n",
    "        return np.nan\n",
    "        pass"
   ]
  },
  {
   "cell_type": "code",
   "execution_count": 22,
   "metadata": {
    "ExecuteTime": {
     "end_time": "2019-06-14T01:42:15.986298Z",
     "start_time": "2019-06-14T01:42:15.983578Z"
    }
   },
   "outputs": [],
   "source": [
    "# IMDB['m_cn']=IMDB.apply(lambda row: cn(row.emotion,row.male_a),axis=1)\n",
    "# IMDB['f_cn']=IMDB.apply(lambda row: cn(row.emotion,row.female_a),axis=1)"
   ]
  },
  {
   "cell_type": "code",
   "execution_count": 23,
   "metadata": {
    "ExecuteTime": {
     "end_time": "2019-06-14T01:42:17.639408Z",
     "start_time": "2019-06-14T01:42:17.636530Z"
    }
   },
   "outputs": [],
   "source": [
    "# threshold=3\n",
    "# IMDB['m_b']=IMDB.apply(lambda row: slope(row.m_cn,row.tp,row.len,threshold),axis=1)\n",
    "# IMDB['f_b']=IMDB.apply(lambda row: slope(row.f_cn,row.tp,row.len,threshold),axis=1)"
   ]
  },
  {
   "cell_type": "code",
   "execution_count": 24,
   "metadata": {
    "ExecuteTime": {
     "end_time": "2019-06-14T01:42:18.132035Z",
     "start_time": "2019-06-14T01:42:18.129266Z"
    },
    "scrolled": true
   },
   "outputs": [],
   "source": [
    "# IMDB['m_k']=IMDB.apply(lambda row: k(row.m_b,row.m_cn),axis=1)\n",
    "# IMDB['f_k']=IMDB.apply(lambda row: k(row.f_b,row.f_cn),axis=1)"
   ]
  },
  {
   "cell_type": "code",
   "execution_count": 25,
   "metadata": {
    "ExecuteTime": {
     "end_time": "2019-06-14T01:42:18.566615Z",
     "start_time": "2019-06-14T01:42:18.563521Z"
    }
   },
   "outputs": [],
   "source": [
    "# IMDB['f_min']=IMDB['f_cn'].apply(lambda x: np.argmin(x))\n",
    "# IMDB['f_max']=IMDB['f_cn'].apply(lambda x: np.argmax(x))\n",
    "# IMDB['m_min']=IMDB['m_cn'].apply(lambda x: np.argmin(x))\n",
    "# IMDB['m_max']=IMDB['m_cn'].apply(lambda x: np.argmax(x))"
   ]
  },
  {
   "cell_type": "code",
   "execution_count": 27,
   "metadata": {
    "ExecuteTime": {
     "end_time": "2019-06-14T01:42:24.114415Z",
     "start_time": "2019-06-14T01:42:24.109727Z"
    }
   },
   "outputs": [],
   "source": [
    "# def ex(x,y,z):\n",
    "#     try:\n",
    "#         a=[]\n",
    "#         t=5\n",
    "# #         print(x)\n",
    "#         for j in x:\n",
    "#             if j in range(y-t,y+t+1):\n",
    "#                 a.append([j-y,j])\n",
    "#         b=np.argmin([abs(i[0]) for i in a])\n",
    "#         b=a[b][1]\n",
    "# #         print(b)\n",
    "# #         print(z)\n",
    "#         for i in z:\n",
    "#             if b in range(i[1][0],i[1][1]):\n",
    "#                 if i[1][1]-i[1][0]>=3:\n",
    "#                     return i[0]\n",
    "#     except Exception as e:\n",
    "# #         print(e)\n",
    "#         return 0"
   ]
  },
  {
   "cell_type": "code",
   "execution_count": 28,
   "metadata": {
    "ExecuteTime": {
     "end_time": "2019-06-14T01:42:25.634704Z",
     "start_time": "2019-06-14T01:42:25.631907Z"
    }
   },
   "outputs": [],
   "source": [
    "# IMDB['f_min1']=IMDB.apply(lambda row: ex(row.tp,row.f_min,row.f_k),axis=1)\n",
    "# IMDB['m_min1']=IMDB.apply(lambda row: ex(row.tp,row.m_min,row.m_k),axis=1)\n",
    "# IMDB['f_max1']=IMDB.apply(lambda row: ex(row.tp,row.f_max,row.f_k),axis=1)\n",
    "# IMDB['m_max1']=IMDB.apply(lambda row: ex(row.tp,row.m_max,row.m_k),axis=1)"
   ]
  },
  {
   "cell_type": "code",
   "execution_count": 21,
   "metadata": {
    "ExecuteTime": {
     "end_time": "2019-07-28T11:16:11.767714Z",
     "start_time": "2019-07-28T11:16:11.763923Z"
    }
   },
   "outputs": [
    {
     "data": {
      "text/plain": [
       "6087"
      ]
     },
     "execution_count": 21,
     "metadata": {},
     "output_type": "execute_result"
    }
   ],
   "source": [
    "len(IMDB)"
   ]
  },
  {
   "cell_type": "code",
   "execution_count": 29,
   "metadata": {
    "ExecuteTime": {
     "end_time": "2019-06-14T01:44:00.830251Z",
     "start_time": "2019-06-14T01:43:04.530460Z"
    },
    "scrolled": true
   },
   "outputs": [
    {
     "name": "stdout",
     "output_type": "stream",
     "text": [
      "\r",
      "1"
     ]
    },
    {
     "name": "stderr",
     "output_type": "stream",
     "text": [
      "/Users/xuhuimin/anaconda3/lib/python3.6/site-packages/ipykernel_launcher.py:39: RuntimeWarning: invalid value encountered in true_divide\n",
      "/Users/xuhuimin/anaconda3/lib/python3.6/site-packages/numpy/core/fromnumeric.py:83: RuntimeWarning: invalid value encountered in reduce\n",
      "  return ufunc.reduce(obj, axis, dtype, out, **passkwargs)\n"
     ]
    },
    {
     "name": "stdout",
     "output_type": "stream",
     "text": [
      "9"
     ]
    }
   ],
   "source": [
    "for i in np.arange(1,10,1):\n",
    "    flushPrint(i)\n",
    "    IMDB['m_cn']=IMDB.apply(lambda row: cn(row.emotion,row.male_a),axis=1)\n",
    "    IMDB['f_cn']=IMDB.apply(lambda row: cn(row.emotion,row.female_a),axis=1)\n",
    "    global threshold\n",
    "    threshold=i\n",
    "    IMDB['m_b']=IMDB.apply(lambda row: slope(row.m_cn,row.tp,row.len,threshold),axis=1)\n",
    "    IMDB['f_b']=IMDB.apply(lambda row: slope(row.f_cn,row.tp,row.len,threshold),axis=1)\n",
    "    IMDB['m_k_'+str(i)]=IMDB.apply(lambda row: k(row.m_b,row.m_cn),axis=1)\n",
    "    IMDB['f_k_'+str(i)]=IMDB.apply(lambda row: k(row.f_b,row.f_cn),axis=1)"
   ]
  },
  {
   "cell_type": "code",
   "execution_count": 35,
   "metadata": {
    "ExecuteTime": {
     "end_time": "2019-06-14T01:45:51.273435Z",
     "start_time": "2019-06-14T01:45:42.786416Z"
    },
    "scrolled": true
   },
   "outputs": [
    {
     "name": "stdout",
     "output_type": "stream",
     "text": [
      "12991\n",
      "1843\n"
     ]
    },
    {
     "name": "stderr",
     "output_type": "stream",
     "text": [
      "/Users/xuhuimin/anaconda3/lib/python3.6/site-packages/statsmodels/nonparametric/kde.py:448: RuntimeWarning: invalid value encountered in greater\n",
      "  X = X[np.logical_and(X > clip[0], X < clip[1])] # won't work for two columns.\n",
      "/Users/xuhuimin/anaconda3/lib/python3.6/site-packages/statsmodels/nonparametric/kde.py:448: RuntimeWarning: invalid value encountered in less\n",
      "  X = X[np.logical_and(X > clip[0], X < clip[1])] # won't work for two columns.\n",
      "/Users/xuhuimin/anaconda3/lib/python3.6/site-packages/scipy/stats/stats.py:1713: FutureWarning: Using a non-tuple sequence for multidimensional indexing is deprecated; use `arr[tuple(seq)]` instead of `arr[seq]`. In the future this will be interpreted as an array index, `arr[np.array(seq)]`, which will result either in an error or a different result.\n",
      "  return np.add.reduce(sorted[indexer] * weights, axis=axis) / sumval\n"
     ]
    },
    {
     "data": {
      "image/png": "[encoded data removed]",
      "text/plain": [
       "<Figure size 432x288 with 1 Axes>"
      ]
     },
     "metadata": {},
     "output_type": "display_data"
    },
    {
     "name": "stdout",
     "output_type": "stream",
     "text": [
      "22815\n",
      "1766\n"
     ]
    },
    {
     "data": {
      "image/png": "[encoded data removed]",
      "text/plain": [
       "<Figure size 432x288 with 1 Axes>"
      ]
     },
     "metadata": {},
     "output_type": "display_data"
    },
    {
     "name": "stdout",
     "output_type": "stream",
     "text": [
      "\r",
      "3"
     ]
    },
    {
     "name": "stderr",
     "output_type": "stream",
     "text": [
      "/Users/xuhuimin/anaconda3/lib/python3.6/site-packages/ipykernel_launcher.py:6: SettingWithCopyWarning: \n",
      "A value is trying to be set on a copy of a slice from a DataFrame.\n",
      "Try using .loc[row_indexer,col_indexer] = value instead\n",
      "\n",
      "See the caveats in the documentation: http://pandas.pydata.org/pandas-docs/stable/indexing.html#indexing-view-versus-copy\n",
      "  \n",
      "/Users/xuhuimin/anaconda3/lib/python3.6/site-packages/ipykernel_launcher.py:7: SettingWithCopyWarning: \n",
      "A value is trying to be set on a copy of a slice from a DataFrame.\n",
      "Try using .loc[row_indexer,col_indexer] = value instead\n",
      "\n",
      "See the caveats in the documentation: http://pandas.pydata.org/pandas-docs/stable/indexing.html#indexing-view-versus-copy\n",
      "  import sys\n",
      "/Users/xuhuimin/anaconda3/lib/python3.6/site-packages/ipykernel_launcher.py:8: SettingWithCopyWarning: \n",
      "A value is trying to be set on a copy of a slice from a DataFrame.\n",
      "Try using .loc[row_indexer,col_indexer] = value instead\n",
      "\n",
      "See the caveats in the documentation: http://pandas.pydata.org/pandas-docs/stable/indexing.html#indexing-view-versus-copy\n",
      "  \n",
      "/Users/xuhuimin/anaconda3/lib/python3.6/site-packages/ipykernel_launcher.py:9: SettingWithCopyWarning: \n",
      "A value is trying to be set on a copy of a slice from a DataFrame.\n",
      "Try using .loc[row_indexer,col_indexer] = value instead\n",
      "\n",
      "See the caveats in the documentation: http://pandas.pydata.org/pandas-docs/stable/indexing.html#indexing-view-versus-copy\n",
      "  if __name__ == '__main__':\n"
     ]
    },
    {
     "name": "stdout",
     "output_type": "stream",
     "text": [
      "2611\n",
      "1709\n"
     ]
    },
    {
     "data": {
      "image/png": "[encoded data removed]",
      "text/plain": [
       "<Figure size 432x288 with 1 Axes>"
      ]
     },
     "metadata": {},
     "output_type": "display_data"
    },
    {
     "name": "stdout",
     "output_type": "stream",
     "text": [
      "42437\n",
      "1633\n"
     ]
    },
    {
     "data": {
      "image/png": "[encoded data removed]",
      "text/plain": [
       "<Figure size 432x288 with 1 Axes>"
      ]
     },
     "metadata": {},
     "output_type": "display_data"
    },
    {
     "name": "stdout",
     "output_type": "stream",
     "text": [
      "52289\n",
      "1563\n"
     ]
    },
    {
     "data": {
      "image/png": "[encoded data removed]",
      "text/plain": [
       "<Figure size 432x288 with 1 Axes>"
      ]
     },
     "metadata": {},
     "output_type": "display_data"
    },
    {
     "name": "stdout",
     "output_type": "stream",
     "text": [
      "62171\n",
      "1486\n"
     ]
    },
    {
     "data": {
      "image/png": "[encoded data removed]",
      "text/plain": [
       "<Figure size 432x288 with 1 Axes>"
      ]
     },
     "metadata": {},
     "output_type": "display_data"
    },
    {
     "name": "stdout",
     "output_type": "stream",
     "text": [
      "72055\n",
      "1402\n"
     ]
    },
    {
     "data": {
      "image/png": "[encoded data removed]",
      "text/plain": [
       "<Figure size 432x288 with 1 Axes>"
      ]
     },
     "metadata": {},
     "output_type": "display_data"
    },
    {
     "name": "stdout",
     "output_type": "stream",
     "text": [
      "81967\n",
      "1333\n"
     ]
    },
    {
     "data": {
      "image/png": "[encoded data removed]",
      "text/plain": [
       "<Figure size 432x288 with 1 Axes>"
      ]
     },
     "metadata": {},
     "output_type": "display_data"
    },
    {
     "name": "stdout",
     "output_type": "stream",
     "text": [
      "91868\n",
      "1283\n"
     ]
    },
    {
     "data": {
      "image/png": "[encoded data removed]",
      "text/plain": [
       "<Figure size 432x288 with 1 Axes>"
      ]
     },
     "metadata": {},
     "output_type": "display_data"
    }
   ],
   "source": [
    "for i in np.arange(1,10,1):\n",
    "    flushPrint(i)\n",
    "    IMDB1=IMDB.dropna(axis=0,how='any',subset=['m_k_'+str(i),'f_k_'+str(i)])\n",
    "#     IMDB1['trend_f']=IMDB1['f_k_'+str(i)].apply(lambda x:np.median([i[0] for i in x]))\n",
    "#     IMDB1['trend_m']=IMDB1['m_k_'+str(i)].apply(lambda x:np.median([i[0] for i in x]))\n",
    "    IMDB1['trend_f']=IMDB1['f_k_'+str(i)].apply(lambda x:np.sum([i[0]*i[1] for i in x if i[0]>0])/np.sum([i[1] for i in x if i[0]>0]))\n",
    "    IMDB1['trend_m']=IMDB1['m_k_'+str(i)].apply(lambda x:np.sum([i[0]*i[1] for i in x if i[0]>0])/np.sum([i[1] for i in x if i[0]>0]))\n",
    "    IMDB1['distance']=IMDB1['trend_f']-IMDB1['trend_m']\n",
    "    IMDB1['tp_l']=IMDB1['tp'].apply(lambda x: len(x))\n",
    "    print(len(IMDB1[IMDB1['distance']>0]))\n",
    "    print(len(IMDB1[IMDB1['distance']<0]))\n",
    "    sns.distplot(list([i for i in IMDB1['trend_m'].values]), hist=False, kde=True,color='blue',label='male')\n",
    "    sns.distplot(list([i for i in IMDB1['trend_f'].values]), hist=False, kde=True,color='red',label='female')\n",
    "    # plt.plot([1,1],[0,1],'--')\n",
    "    # plt.xlim(-1,2)\n",
    "    plt.legend()\n",
    "    plt.ylabel('probability')\n",
    "    plt.xlabel('K')\n",
    "    plt.show()"
   ]
  },
  {
   "cell_type": "code",
   "execution_count": 36,
   "metadata": {
    "ExecuteTime": {
     "end_time": "2019-06-14T01:45:51.284346Z",
     "start_time": "2019-06-14T01:45:51.276158Z"
    }
   },
   "outputs": [
    {
     "data": {
      "text/plain": [
       "count    3782.000000\n",
       "mean        0.154127\n",
       "std         0.244961\n",
       "min         0.000014\n",
       "25%         0.019507\n",
       "50%         0.051701\n",
       "75%         0.157794\n",
       "max         1.000000\n",
       "Name: trend_f, dtype: float64"
      ]
     },
     "execution_count": 36,
     "metadata": {},
     "output_type": "execute_result"
    }
   ],
   "source": [
    "IMDB1['trend_f'].describe()"
   ]
  },
  {
   "cell_type": "code",
   "execution_count": 37,
   "metadata": {
    "ExecuteTime": {
     "end_time": "2019-06-14T01:45:51.974690Z",
     "start_time": "2019-06-14T01:45:51.966304Z"
    }
   },
   "outputs": [
    {
     "data": {
      "text/plain": [
       "count    4033.000000\n",
       "mean        0.119304\n",
       "std         0.198621\n",
       "min         0.000020\n",
       "25%         0.018407\n",
       "50%         0.045116\n",
       "75%         0.121162\n",
       "max         1.000000\n",
       "Name: trend_m, dtype: float64"
      ]
     },
     "execution_count": 37,
     "metadata": {},
     "output_type": "execute_result"
    }
   ],
   "source": [
    "IMDB1['trend_m'].describe()"
   ]
  },
  {
   "cell_type": "code",
   "execution_count": 128,
   "metadata": {
    "ExecuteTime": {
     "end_time": "2019-06-11T13:57:56.346999Z",
     "start_time": "2019-06-11T13:57:47.833333Z"
    }
   },
   "outputs": [],
   "source": [
    "IMDB1.to_csv('./IMDB/IMDB_e2.csv',index=False)"
   ]
  },
  {
   "cell_type": "code",
   "execution_count": 129,
   "metadata": {
    "ExecuteTime": {
     "end_time": "2019-06-11T13:58:02.620375Z",
     "start_time": "2019-06-11T13:58:02.606204Z"
    }
   },
   "outputs": [],
   "source": [
    "IMDB1=IMDB1.dropna(axis=0,how='any',subset=['trend_m','trend_f'])"
   ]
  },
  {
   "cell_type": "code",
   "execution_count": 127,
   "metadata": {
    "ExecuteTime": {
     "end_time": "2019-06-11T13:57:46.442348Z",
     "start_time": "2019-06-11T13:57:46.438146Z"
    }
   },
   "outputs": [
    {
     "data": {
      "text/plain": [
       "6087"
      ]
     },
     "execution_count": 127,
     "metadata": {},
     "output_type": "execute_result"
    }
   ],
   "source": [
    "len(IMDB1)"
   ]
  },
  {
   "cell_type": "code",
   "execution_count": 130,
   "metadata": {
    "ExecuteTime": {
     "end_time": "2019-06-11T13:58:06.247067Z",
     "start_time": "2019-06-11T13:58:06.243334Z"
    }
   },
   "outputs": [
    {
     "data": {
      "text/plain": [
       "4903"
      ]
     },
     "execution_count": 130,
     "metadata": {},
     "output_type": "execute_result"
    }
   ],
   "source": [
    "len(IMDB1)"
   ]
  },
  {
   "cell_type": "code",
   "execution_count": 131,
   "metadata": {
    "ExecuteTime": {
     "end_time": "2019-06-11T13:58:12.091174Z",
     "start_time": "2019-06-11T13:58:12.083912Z"
    }
   },
   "outputs": [
    {
     "data": {
      "text/plain": [
       "3.2850219799659433e-34"
      ]
     },
     "execution_count": 131,
     "metadata": {},
     "output_type": "execute_result"
    }
   ],
   "source": [
    "v,p=stats.ttest_ind([i for i in IMDB1['trend_m'].values], [i for i in IMDB1['trend_f'].values])\n",
    "p"
   ]
  },
  {
   "cell_type": "code",
   "execution_count": 61,
   "metadata": {
    "ExecuteTime": {
     "end_time": "2019-06-11T11:03:29.126620Z",
     "start_time": "2019-06-11T11:03:21.129855Z"
    }
   },
   "outputs": [],
   "source": [
    "# IMDB1.to_csv('./IMDB/IMDB_e2.csv',index=False)"
   ]
  }
 ],
 "metadata": {
  "kernelspec": {
   "display_name": "Python 3",
   "language": "python",
   "name": "python3"
  },
  "language_info": {
   "codemirror_mode": {
    "name": "ipython",
    "version": 3
   },
   "file_extension": ".py",
   "mimetype": "text/x-python",
   "name": "python",
   "nbconvert_exporter": "python",
   "pygments_lexer": "ipython3",
   "version": "3.6.2"
  },
  "toc": {
   "nav_menu": {},
   "number_sections": true,
   "sideBar": true,
   "skip_h1_title": false,
   "title_cell": "Table of Contents",
   "title_sidebar": "Contents",
   "toc_cell": false,
   "toc_position": {},
   "toc_section_display": true,
   "toc_window_display": false
  }
 },
 "nbformat": 4,
 "nbformat_minor": 2
}
